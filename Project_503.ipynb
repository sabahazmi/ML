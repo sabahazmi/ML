{
  "nbformat": 4,
  "nbformat_minor": 0,
  "metadata": {
    "colab": {
      "name": "Project 503",
      "provenance": [],
      "collapsed_sections": []
    },
    "kernelspec": {
      "name": "python3",
      "display_name": "Python 3.9.4 64-bit"
    },
    "language_info": {
      "name": "python",
      "version": "3.9.4"
    },
    "interpreter": {
      "hash": "b65b315aeee4ad42627e2bca1153447ee255c14993768f91cb535bdb610e1b45"
    }
  },
  "cells": [
    {
      "cell_type": "markdown",
      "metadata": {
        "id": "ntpMtzNfRfRw"
      },
      "source": [
        "## Pre Processing"
      ]
    },
    {
      "cell_type": "code",
      "metadata": {
        "id": "MHEgV8lyvUJd"
      },
      "source": [
        "#!pip install pandas-profiling==2.7.1"
      ],
      "execution_count": 32,
      "outputs": []
    },
    {
      "cell_type": "code",
      "metadata": {
        "id": "XIIUXI8rMkai"
      },
      "source": [
        "# Import pandas library\n",
        "import pandas as pd"
      ],
      "execution_count": 33,
      "outputs": []
    },
    {
      "cell_type": "code",
      "metadata": {
        "id": "X8wfCLjaMAeC"
      },
      "source": [
        "# from google.colab import files\n",
        "# uploaded = files.upload()"
      ],
      "execution_count": 34,
      "outputs": []
    },
    {
      "cell_type": "code",
      "metadata": {
        "id": "rqw-D9V3Nz1Z"
      },
      "source": [
        "# Read csv data file\n",
        "df = pd.read_csv('/content/weatherAUS.csv')"
      ],
      "execution_count": 35,
      "outputs": []
    },
    {
      "cell_type": "code",
      "metadata": {
        "colab": {
          "base_uri": "https://localhost:8080/"
        },
        "id": "VvBHkWRMN2Td",
        "outputId": "a69604da-4ba2-47fb-f026-8dd23c8c3ac0"
      },
      "source": [
        "# View the number of rows and columns\n",
        "df.shape"
      ],
      "execution_count": 36,
      "outputs": [
        {
          "output_type": "execute_result",
          "data": {
            "text/plain": [
              "(29982, 23)"
            ]
          },
          "metadata": {
            "tags": []
          },
          "execution_count": 36
        }
      ]
    },
    {
      "cell_type": "code",
      "metadata": {
        "colab": {
          "base_uri": "https://localhost:8080/",
          "height": 307
        },
        "id": "wSxwaoHSOXg_",
        "outputId": "0eae545e-37d0-4433-b8dc-657d4797a644"
      },
      "source": [
        "# View the first 5 rows\n",
        "df.head()"
      ],
      "execution_count": 37,
      "outputs": [
        {
          "output_type": "execute_result",
          "data": {
            "text/html": [
              "<div>\n",
              "<style scoped>\n",
              "    .dataframe tbody tr th:only-of-type {\n",
              "        vertical-align: middle;\n",
              "    }\n",
              "\n",
              "    .dataframe tbody tr th {\n",
              "        vertical-align: top;\n",
              "    }\n",
              "\n",
              "    .dataframe thead th {\n",
              "        text-align: right;\n",
              "    }\n",
              "</style>\n",
              "<table border=\"1\" class=\"dataframe\">\n",
              "  <thead>\n",
              "    <tr style=\"text-align: right;\">\n",
              "      <th></th>\n",
              "      <th>Date</th>\n",
              "      <th>Location</th>\n",
              "      <th>MinTemp</th>\n",
              "      <th>MaxTemp</th>\n",
              "      <th>Rainfall</th>\n",
              "      <th>Evaporation</th>\n",
              "      <th>Sunshine</th>\n",
              "      <th>WindGustDir</th>\n",
              "      <th>WindGustSpeed</th>\n",
              "      <th>WindDir9am</th>\n",
              "      <th>WindDir3pm</th>\n",
              "      <th>WindSpeed9am</th>\n",
              "      <th>WindSpeed3pm</th>\n",
              "      <th>Humidity9am</th>\n",
              "      <th>Humidity3pm</th>\n",
              "      <th>Pressure9am</th>\n",
              "      <th>Pressure3pm</th>\n",
              "      <th>Cloud9am</th>\n",
              "      <th>Cloud3pm</th>\n",
              "      <th>Temp9am</th>\n",
              "      <th>Temp3pm</th>\n",
              "      <th>RainToday</th>\n",
              "      <th>RainTomorrow</th>\n",
              "    </tr>\n",
              "  </thead>\n",
              "  <tbody>\n",
              "    <tr>\n",
              "      <th>0</th>\n",
              "      <td>2008-12-01</td>\n",
              "      <td>Albury</td>\n",
              "      <td>13.4</td>\n",
              "      <td>22.9</td>\n",
              "      <td>0.6</td>\n",
              "      <td>NaN</td>\n",
              "      <td>NaN</td>\n",
              "      <td>W</td>\n",
              "      <td>44.0</td>\n",
              "      <td>W</td>\n",
              "      <td>WNW</td>\n",
              "      <td>20.0</td>\n",
              "      <td>24.0</td>\n",
              "      <td>71.0</td>\n",
              "      <td>22.0</td>\n",
              "      <td>1007.7</td>\n",
              "      <td>1007.1</td>\n",
              "      <td>8.0</td>\n",
              "      <td>NaN</td>\n",
              "      <td>16.9</td>\n",
              "      <td>21.8</td>\n",
              "      <td>No</td>\n",
              "      <td>No</td>\n",
              "    </tr>\n",
              "    <tr>\n",
              "      <th>1</th>\n",
              "      <td>2008-12-02</td>\n",
              "      <td>Albury</td>\n",
              "      <td>7.4</td>\n",
              "      <td>25.1</td>\n",
              "      <td>0.0</td>\n",
              "      <td>NaN</td>\n",
              "      <td>NaN</td>\n",
              "      <td>WNW</td>\n",
              "      <td>44.0</td>\n",
              "      <td>NNW</td>\n",
              "      <td>WSW</td>\n",
              "      <td>4.0</td>\n",
              "      <td>22.0</td>\n",
              "      <td>44.0</td>\n",
              "      <td>25.0</td>\n",
              "      <td>1010.6</td>\n",
              "      <td>1007.8</td>\n",
              "      <td>NaN</td>\n",
              "      <td>NaN</td>\n",
              "      <td>17.2</td>\n",
              "      <td>24.3</td>\n",
              "      <td>No</td>\n",
              "      <td>No</td>\n",
              "    </tr>\n",
              "    <tr>\n",
              "      <th>2</th>\n",
              "      <td>2008-12-03</td>\n",
              "      <td>Albury</td>\n",
              "      <td>12.9</td>\n",
              "      <td>25.7</td>\n",
              "      <td>0.0</td>\n",
              "      <td>NaN</td>\n",
              "      <td>NaN</td>\n",
              "      <td>WSW</td>\n",
              "      <td>46.0</td>\n",
              "      <td>W</td>\n",
              "      <td>WSW</td>\n",
              "      <td>19.0</td>\n",
              "      <td>26.0</td>\n",
              "      <td>38.0</td>\n",
              "      <td>30.0</td>\n",
              "      <td>1007.6</td>\n",
              "      <td>1008.7</td>\n",
              "      <td>NaN</td>\n",
              "      <td>2.0</td>\n",
              "      <td>21.0</td>\n",
              "      <td>23.2</td>\n",
              "      <td>No</td>\n",
              "      <td>No</td>\n",
              "    </tr>\n",
              "    <tr>\n",
              "      <th>3</th>\n",
              "      <td>2008-12-04</td>\n",
              "      <td>Albury</td>\n",
              "      <td>9.2</td>\n",
              "      <td>28.0</td>\n",
              "      <td>0.0</td>\n",
              "      <td>NaN</td>\n",
              "      <td>NaN</td>\n",
              "      <td>NE</td>\n",
              "      <td>24.0</td>\n",
              "      <td>SE</td>\n",
              "      <td>E</td>\n",
              "      <td>11.0</td>\n",
              "      <td>9.0</td>\n",
              "      <td>45.0</td>\n",
              "      <td>16.0</td>\n",
              "      <td>1017.6</td>\n",
              "      <td>1012.8</td>\n",
              "      <td>NaN</td>\n",
              "      <td>NaN</td>\n",
              "      <td>18.1</td>\n",
              "      <td>26.5</td>\n",
              "      <td>No</td>\n",
              "      <td>No</td>\n",
              "    </tr>\n",
              "    <tr>\n",
              "      <th>4</th>\n",
              "      <td>2008-12-05</td>\n",
              "      <td>Albury</td>\n",
              "      <td>17.5</td>\n",
              "      <td>32.3</td>\n",
              "      <td>1.0</td>\n",
              "      <td>NaN</td>\n",
              "      <td>NaN</td>\n",
              "      <td>W</td>\n",
              "      <td>41.0</td>\n",
              "      <td>ENE</td>\n",
              "      <td>NW</td>\n",
              "      <td>7.0</td>\n",
              "      <td>20.0</td>\n",
              "      <td>82.0</td>\n",
              "      <td>33.0</td>\n",
              "      <td>1010.8</td>\n",
              "      <td>1006.0</td>\n",
              "      <td>7.0</td>\n",
              "      <td>8.0</td>\n",
              "      <td>17.8</td>\n",
              "      <td>29.7</td>\n",
              "      <td>No</td>\n",
              "      <td>No</td>\n",
              "    </tr>\n",
              "  </tbody>\n",
              "</table>\n",
              "</div>"
            ],
            "text/plain": [
              "         Date Location  MinTemp  ...  Temp3pm  RainToday  RainTomorrow\n",
              "0  2008-12-01   Albury     13.4  ...     21.8         No            No\n",
              "1  2008-12-02   Albury      7.4  ...     24.3         No            No\n",
              "2  2008-12-03   Albury     12.9  ...     23.2         No            No\n",
              "3  2008-12-04   Albury      9.2  ...     26.5         No            No\n",
              "4  2008-12-05   Albury     17.5  ...     29.7         No            No\n",
              "\n",
              "[5 rows x 23 columns]"
            ]
          },
          "metadata": {
            "tags": []
          },
          "execution_count": 37
        }
      ]
    },
    {
      "cell_type": "code",
      "metadata": {
        "colab": {
          "base_uri": "https://localhost:8080/",
          "height": 223
        },
        "id": "giv_ub6vOjoW",
        "outputId": "98fa9161-8a2f-4af8-be8c-8988fc794b86"
      },
      "source": [
        "# Drop column\n",
        "df = df.drop(['Evaporation', 'Sunshine', 'Cloud9am', 'Cloud3pm', 'Date', 'Location'],  axis = 1)\n",
        "df.head()\n",
        "\n"
      ],
      "execution_count": 38,
      "outputs": [
        {
          "output_type": "execute_result",
          "data": {
            "text/html": [
              "<div>\n",
              "<style scoped>\n",
              "    .dataframe tbody tr th:only-of-type {\n",
              "        vertical-align: middle;\n",
              "    }\n",
              "\n",
              "    .dataframe tbody tr th {\n",
              "        vertical-align: top;\n",
              "    }\n",
              "\n",
              "    .dataframe thead th {\n",
              "        text-align: right;\n",
              "    }\n",
              "</style>\n",
              "<table border=\"1\" class=\"dataframe\">\n",
              "  <thead>\n",
              "    <tr style=\"text-align: right;\">\n",
              "      <th></th>\n",
              "      <th>MinTemp</th>\n",
              "      <th>MaxTemp</th>\n",
              "      <th>Rainfall</th>\n",
              "      <th>WindGustDir</th>\n",
              "      <th>WindGustSpeed</th>\n",
              "      <th>WindDir9am</th>\n",
              "      <th>WindDir3pm</th>\n",
              "      <th>WindSpeed9am</th>\n",
              "      <th>WindSpeed3pm</th>\n",
              "      <th>Humidity9am</th>\n",
              "      <th>Humidity3pm</th>\n",
              "      <th>Pressure9am</th>\n",
              "      <th>Pressure3pm</th>\n",
              "      <th>Temp9am</th>\n",
              "      <th>Temp3pm</th>\n",
              "      <th>RainToday</th>\n",
              "      <th>RainTomorrow</th>\n",
              "    </tr>\n",
              "  </thead>\n",
              "  <tbody>\n",
              "    <tr>\n",
              "      <th>0</th>\n",
              "      <td>13.4</td>\n",
              "      <td>22.9</td>\n",
              "      <td>0.6</td>\n",
              "      <td>W</td>\n",
              "      <td>44.0</td>\n",
              "      <td>W</td>\n",
              "      <td>WNW</td>\n",
              "      <td>20.0</td>\n",
              "      <td>24.0</td>\n",
              "      <td>71.0</td>\n",
              "      <td>22.0</td>\n",
              "      <td>1007.7</td>\n",
              "      <td>1007.1</td>\n",
              "      <td>16.9</td>\n",
              "      <td>21.8</td>\n",
              "      <td>No</td>\n",
              "      <td>No</td>\n",
              "    </tr>\n",
              "    <tr>\n",
              "      <th>1</th>\n",
              "      <td>7.4</td>\n",
              "      <td>25.1</td>\n",
              "      <td>0.0</td>\n",
              "      <td>WNW</td>\n",
              "      <td>44.0</td>\n",
              "      <td>NNW</td>\n",
              "      <td>WSW</td>\n",
              "      <td>4.0</td>\n",
              "      <td>22.0</td>\n",
              "      <td>44.0</td>\n",
              "      <td>25.0</td>\n",
              "      <td>1010.6</td>\n",
              "      <td>1007.8</td>\n",
              "      <td>17.2</td>\n",
              "      <td>24.3</td>\n",
              "      <td>No</td>\n",
              "      <td>No</td>\n",
              "    </tr>\n",
              "    <tr>\n",
              "      <th>2</th>\n",
              "      <td>12.9</td>\n",
              "      <td>25.7</td>\n",
              "      <td>0.0</td>\n",
              "      <td>WSW</td>\n",
              "      <td>46.0</td>\n",
              "      <td>W</td>\n",
              "      <td>WSW</td>\n",
              "      <td>19.0</td>\n",
              "      <td>26.0</td>\n",
              "      <td>38.0</td>\n",
              "      <td>30.0</td>\n",
              "      <td>1007.6</td>\n",
              "      <td>1008.7</td>\n",
              "      <td>21.0</td>\n",
              "      <td>23.2</td>\n",
              "      <td>No</td>\n",
              "      <td>No</td>\n",
              "    </tr>\n",
              "    <tr>\n",
              "      <th>3</th>\n",
              "      <td>9.2</td>\n",
              "      <td>28.0</td>\n",
              "      <td>0.0</td>\n",
              "      <td>NE</td>\n",
              "      <td>24.0</td>\n",
              "      <td>SE</td>\n",
              "      <td>E</td>\n",
              "      <td>11.0</td>\n",
              "      <td>9.0</td>\n",
              "      <td>45.0</td>\n",
              "      <td>16.0</td>\n",
              "      <td>1017.6</td>\n",
              "      <td>1012.8</td>\n",
              "      <td>18.1</td>\n",
              "      <td>26.5</td>\n",
              "      <td>No</td>\n",
              "      <td>No</td>\n",
              "    </tr>\n",
              "    <tr>\n",
              "      <th>4</th>\n",
              "      <td>17.5</td>\n",
              "      <td>32.3</td>\n",
              "      <td>1.0</td>\n",
              "      <td>W</td>\n",
              "      <td>41.0</td>\n",
              "      <td>ENE</td>\n",
              "      <td>NW</td>\n",
              "      <td>7.0</td>\n",
              "      <td>20.0</td>\n",
              "      <td>82.0</td>\n",
              "      <td>33.0</td>\n",
              "      <td>1010.8</td>\n",
              "      <td>1006.0</td>\n",
              "      <td>17.8</td>\n",
              "      <td>29.7</td>\n",
              "      <td>No</td>\n",
              "      <td>No</td>\n",
              "    </tr>\n",
              "  </tbody>\n",
              "</table>\n",
              "</div>"
            ],
            "text/plain": [
              "   MinTemp  MaxTemp  Rainfall  ... Temp3pm  RainToday RainTomorrow\n",
              "0     13.4     22.9       0.6  ...    21.8         No           No\n",
              "1      7.4     25.1       0.0  ...    24.3         No           No\n",
              "2     12.9     25.7       0.0  ...    23.2         No           No\n",
              "3      9.2     28.0       0.0  ...    26.5         No           No\n",
              "4     17.5     32.3       1.0  ...    29.7         No           No\n",
              "\n",
              "[5 rows x 17 columns]"
            ]
          },
          "metadata": {
            "tags": []
          },
          "execution_count": 38
        }
      ]
    },
    {
      "cell_type": "code",
      "metadata": {
        "colab": {
          "base_uri": "https://localhost:8080/"
        },
        "id": "YIDh94GawFT3",
        "outputId": "9947a5af-441b-4a81-cadf-e9d2845b782a"
      },
      "source": [
        "# Remove null value in RainToday and RainTomorrow\n",
        "import numpy as np\n",
        "\n",
        "df = df.dropna()\n",
        "df.shape\n"
      ],
      "execution_count": 39,
      "outputs": [
        {
          "output_type": "execute_result",
          "data": {
            "text/plain": [
              "(20276, 17)"
            ]
          },
          "metadata": {
            "tags": []
          },
          "execution_count": 39
        }
      ]
    },
    {
      "cell_type": "code",
      "metadata": {
        "colab": {
          "base_uri": "https://localhost:8080/",
          "height": 223
        },
        "id": "8XMJgbdfN1Jg",
        "outputId": "65698428-32ea-4cb4-892d-f73b6fff8114"
      },
      "source": [
        "# Import LabelEncoder\n",
        "from sklearn import preprocessing\n",
        "# Create LabelEncoder\n",
        "le = preprocessing.LabelEncoder()\n",
        "# Convert string categories into numbers for RainToday and RainTomorrow\n",
        "df['RainToday'] = le.fit_transform(df['RainToday'])\n",
        "df['RainTomorrow'] = le.fit_transform(df['RainTomorrow'])\n",
        "df['WindGustDir'] = le.fit_transform(df['WindGustDir'])\n",
        "df['WindDir9am'] = le.fit_transform(df['WindDir9am'])\n",
        "df['WindDir3pm'] = le.fit_transform(df['WindDir3pm'])\n",
        "df.head()\n"
      ],
      "execution_count": 40,
      "outputs": [
        {
          "output_type": "execute_result",
          "data": {
            "text/html": [
              "<div>\n",
              "<style scoped>\n",
              "    .dataframe tbody tr th:only-of-type {\n",
              "        vertical-align: middle;\n",
              "    }\n",
              "\n",
              "    .dataframe tbody tr th {\n",
              "        vertical-align: top;\n",
              "    }\n",
              "\n",
              "    .dataframe thead th {\n",
              "        text-align: right;\n",
              "    }\n",
              "</style>\n",
              "<table border=\"1\" class=\"dataframe\">\n",
              "  <thead>\n",
              "    <tr style=\"text-align: right;\">\n",
              "      <th></th>\n",
              "      <th>MinTemp</th>\n",
              "      <th>MaxTemp</th>\n",
              "      <th>Rainfall</th>\n",
              "      <th>WindGustDir</th>\n",
              "      <th>WindGustSpeed</th>\n",
              "      <th>WindDir9am</th>\n",
              "      <th>WindDir3pm</th>\n",
              "      <th>WindSpeed9am</th>\n",
              "      <th>WindSpeed3pm</th>\n",
              "      <th>Humidity9am</th>\n",
              "      <th>Humidity3pm</th>\n",
              "      <th>Pressure9am</th>\n",
              "      <th>Pressure3pm</th>\n",
              "      <th>Temp9am</th>\n",
              "      <th>Temp3pm</th>\n",
              "      <th>RainToday</th>\n",
              "      <th>RainTomorrow</th>\n",
              "    </tr>\n",
              "  </thead>\n",
              "  <tbody>\n",
              "    <tr>\n",
              "      <th>0</th>\n",
              "      <td>13.4</td>\n",
              "      <td>22.9</td>\n",
              "      <td>0.6</td>\n",
              "      <td>13</td>\n",
              "      <td>44.0</td>\n",
              "      <td>13</td>\n",
              "      <td>14</td>\n",
              "      <td>20.0</td>\n",
              "      <td>24.0</td>\n",
              "      <td>71.0</td>\n",
              "      <td>22.0</td>\n",
              "      <td>1007.7</td>\n",
              "      <td>1007.1</td>\n",
              "      <td>16.9</td>\n",
              "      <td>21.8</td>\n",
              "      <td>0</td>\n",
              "      <td>0</td>\n",
              "    </tr>\n",
              "    <tr>\n",
              "      <th>1</th>\n",
              "      <td>7.4</td>\n",
              "      <td>25.1</td>\n",
              "      <td>0.0</td>\n",
              "      <td>14</td>\n",
              "      <td>44.0</td>\n",
              "      <td>6</td>\n",
              "      <td>15</td>\n",
              "      <td>4.0</td>\n",
              "      <td>22.0</td>\n",
              "      <td>44.0</td>\n",
              "      <td>25.0</td>\n",
              "      <td>1010.6</td>\n",
              "      <td>1007.8</td>\n",
              "      <td>17.2</td>\n",
              "      <td>24.3</td>\n",
              "      <td>0</td>\n",
              "      <td>0</td>\n",
              "    </tr>\n",
              "    <tr>\n",
              "      <th>2</th>\n",
              "      <td>12.9</td>\n",
              "      <td>25.7</td>\n",
              "      <td>0.0</td>\n",
              "      <td>15</td>\n",
              "      <td>46.0</td>\n",
              "      <td>13</td>\n",
              "      <td>15</td>\n",
              "      <td>19.0</td>\n",
              "      <td>26.0</td>\n",
              "      <td>38.0</td>\n",
              "      <td>30.0</td>\n",
              "      <td>1007.6</td>\n",
              "      <td>1008.7</td>\n",
              "      <td>21.0</td>\n",
              "      <td>23.2</td>\n",
              "      <td>0</td>\n",
              "      <td>0</td>\n",
              "    </tr>\n",
              "    <tr>\n",
              "      <th>3</th>\n",
              "      <td>9.2</td>\n",
              "      <td>28.0</td>\n",
              "      <td>0.0</td>\n",
              "      <td>4</td>\n",
              "      <td>24.0</td>\n",
              "      <td>9</td>\n",
              "      <td>0</td>\n",
              "      <td>11.0</td>\n",
              "      <td>9.0</td>\n",
              "      <td>45.0</td>\n",
              "      <td>16.0</td>\n",
              "      <td>1017.6</td>\n",
              "      <td>1012.8</td>\n",
              "      <td>18.1</td>\n",
              "      <td>26.5</td>\n",
              "      <td>0</td>\n",
              "      <td>0</td>\n",
              "    </tr>\n",
              "    <tr>\n",
              "      <th>4</th>\n",
              "      <td>17.5</td>\n",
              "      <td>32.3</td>\n",
              "      <td>1.0</td>\n",
              "      <td>13</td>\n",
              "      <td>41.0</td>\n",
              "      <td>1</td>\n",
              "      <td>7</td>\n",
              "      <td>7.0</td>\n",
              "      <td>20.0</td>\n",
              "      <td>82.0</td>\n",
              "      <td>33.0</td>\n",
              "      <td>1010.8</td>\n",
              "      <td>1006.0</td>\n",
              "      <td>17.8</td>\n",
              "      <td>29.7</td>\n",
              "      <td>0</td>\n",
              "      <td>0</td>\n",
              "    </tr>\n",
              "  </tbody>\n",
              "</table>\n",
              "</div>"
            ],
            "text/plain": [
              "   MinTemp  MaxTemp  Rainfall  ...  Temp3pm  RainToday  RainTomorrow\n",
              "0     13.4     22.9       0.6  ...     21.8          0             0\n",
              "1      7.4     25.1       0.0  ...     24.3          0             0\n",
              "2     12.9     25.7       0.0  ...     23.2          0             0\n",
              "3      9.2     28.0       0.0  ...     26.5          0             0\n",
              "4     17.5     32.3       1.0  ...     29.7          0             0\n",
              "\n",
              "[5 rows x 17 columns]"
            ]
          },
          "metadata": {
            "tags": []
          },
          "execution_count": 40
        }
      ]
    },
    {
      "cell_type": "code",
      "metadata": {
        "id": "usm4O3xTPGt4"
      },
      "source": [
        "# Target column\n",
        "target = df['RainTomorrow']\n",
        "\n",
        "# Features column\n",
        "features = df.drop('RainTomorrow', axis = 1)"
      ],
      "execution_count": 41,
      "outputs": []
    },
    {
      "cell_type": "code",
      "execution_count": null,
      "metadata": {},
      "outputs": [],
      "source": [
        "# importing packages\n",
        "import seaborn\n",
        "import matplotlib.pyplot as plt\n",
        "\n",
        "############# Main Section ############\n",
        "# loading dataset using seaborn\n",
        "# pairplot with hue sex\n",
        "seaborn.pairplot(df, hue ='RainTomorrow')\n",
        "# to show\n",
        "plt.show()\n",
        "\n",
        "# This code is contributed by Deepanshu Rustagi.\n"
      ]
    },
    {
      "cell_type": "code",
      "metadata": {
        "colab": {
          "base_uri": "https://localhost:8080/"
        },
        "id": "kB8XLqjxPHww",
        "outputId": "7dddb876-37de-420f-aef8-04b9aabb7e4f"
      },
      "source": [
        "import numpy as np\n",
        "from sklearn.dummy import DummyClassifier\n",
        "\n",
        "dummy = DummyClassifier (strategy = \"uniform\")\n",
        "\n",
        "# Train model\n",
        "dummy.fit( features, target)\n",
        "\n",
        "# Accuracy scores\n",
        "scores = dummy.score(features, target) \n",
        " \n",
        "# Print scores\n",
        "scores"
      ],
      "execution_count": 42,
      "outputs": [
        {
          "output_type": "execute_result",
          "data": {
            "text/plain": [
              "0.5018248175182481"
            ]
          },
          "metadata": {
            "tags": []
          },
          "execution_count": 42
        }
      ]
    },
    {
      "cell_type": "code",
      "metadata": {
        "id": "mLk9VklvvXYU"
      },
      "source": [
        "#from pandas_profiling import ProfileReport\n",
        "#report = ProfileReport(df)\n",
        "\n",
        "#print(repr(report.report))\n",
        "\n",
        "#report.to_widgets()"
      ],
      "execution_count": 43,
      "outputs": []
    },
    {
      "cell_type": "code",
      "metadata": {
        "id": "JnleHiQoRYk3"
      },
      "source": [
        "# Split data into train and test sets\n",
        "\n",
        "# Import train_test_split function\n",
        "from sklearn.model_selection import train_test_split\n",
        "\n",
        "# Split the dataset into training and test sets\n",
        "x_train, x_test, y_train, y_test = train_test_split(features, target, test_size = 0.125, random_state = 0)"
      ],
      "execution_count": 44,
      "outputs": []
    },
    {
      "cell_type": "markdown",
      "metadata": {
        "id": "brK01dc-RXqB"
      },
      "source": [
        "##KNN\n"
      ]
    },
    {
      "cell_type": "code",
      "metadata": {
        "colab": {
          "base_uri": "https://localhost:8080/"
        },
        "id": "D3MrZP0nRxGg",
        "outputId": "a99fc8fe-e0c2-4d94-a539-369bca8af7af"
      },
      "source": [
        "# Training a KNN model\n",
        "\n",
        "# Import k-nearest neighbor classifier\n",
        "from sklearn.neighbors import KNeighborsClassifier\n",
        "\n",
        "# Import function for k-fold cross validation\n",
        "from sklearn.model_selection import cross_val_score\n",
        "\n",
        "# Create a KNN classifier with k = 1\n",
        "knn = KNeighborsClassifier(n_neighbors=1, weights='distance', algorithm='brute')\n",
        "\n",
        "# Train the model using the training set\n",
        "knn.fit(x_train, y_train)\n",
        "\n",
        "# Use 10-fold cross validation to perform training and validation on the training set\n",
        "# Parameter scoring = 'accuracy' will compute accuracy\n",
        "scores = cross_val_score(knn, x_train, y_train, cv = 10, scoring = 'accuracy')\n",
        "\n",
        "# Print scores\n",
        "scores"
      ],
      "execution_count": 45,
      "outputs": [
        {
          "output_type": "execute_result",
          "data": {
            "text/plain": [
              "array([0.78985915, 0.80326945, 0.80101466, 0.80439684, 0.81285231,\n",
              "       0.80157835, 0.80552424, 0.79988726, 0.80777903, 0.80665163])"
            ]
          },
          "metadata": {
            "tags": []
          },
          "execution_count": 45
        }
      ]
    },
    {
      "cell_type": "code",
      "metadata": {
        "colab": {
          "base_uri": "https://localhost:8080/"
        },
        "id": "qbKySAWeSV_v",
        "outputId": "8a0d77e7-32f4-46ac-a031-fc73ac202013"
      },
      "source": [
        "# Predict the target for the development dataset\n",
        "dev_predict = knn.predict(x_test)\n",
        "dev_predict\n"
      ],
      "execution_count": 46,
      "outputs": [
        {
          "output_type": "execute_result",
          "data": {
            "text/plain": [
              "array([0, 0, 0, ..., 1, 1, 1])"
            ]
          },
          "metadata": {
            "tags": []
          },
          "execution_count": 46
        }
      ]
    },
    {
      "cell_type": "code",
      "metadata": {
        "colab": {
          "base_uri": "https://localhost:8080/"
        },
        "id": "sSwbLVk_Uma3",
        "outputId": "0d05078b-25a1-4663-e0bb-4930e487421a"
      },
      "source": [
        "# Evaluate the knn model on development set\n",
        "\n",
        "# Import scikit-learn metrics module for accuracy calculation\n",
        "from sklearn import metrics\n",
        "\n",
        "# Compute the model accuracy on the development set: How often is the classifier correct?\n",
        "print(\"Accuracy (Test): \", metrics.accuracy_score(y_test, dev_predict))"
      ],
      "execution_count": 47,
      "outputs": [
        {
          "output_type": "stream",
          "text": [
            "Accuracy (Test):  0.8011834319526627\n"
          ],
          "name": "stdout"
        }
      ]
    },
    {
      "cell_type": "markdown",
      "metadata": {
        "id": "oFEGAI7FS2_Y"
      },
      "source": [
        "Tune Parameter KNN"
      ]
    },
    {
      "cell_type": "code",
      "metadata": {
        "colab": {
          "base_uri": "https://localhost:8080/"
        },
        "id": "C_azvansS2AB",
        "outputId": "7649df27-3369-4aa8-93ba-78b59620ba91"
      },
      "source": [
        "# Create a KNN classifier with k = 5\n",
        "knn = KNeighborsClassifier(n_neighbors = 24)\n",
        "# Train the model using the training set\n",
        "knn.fit(x_train, y_train)\n",
        "# Predict the target for the development set\n",
        "dev_predict = knn.predict(x_test)\n",
        "# Compute the model accuracy on the development set: How often is the classifier correct?\n",
        "print(\"Accuracy: \", metrics.accuracy_score(y_test, dev_predict))"
      ],
      "execution_count": 48,
      "outputs": [
        {
          "output_type": "stream",
          "text": [
            "Accuracy:  0.8429980276134122\n"
          ],
          "name": "stdout"
        }
      ]
    },
    {
      "cell_type": "code",
      "metadata": {
        "colab": {
          "base_uri": "https://localhost:8080/"
        },
        "id": "WxX7RuLoQoiY",
        "outputId": "6310725a-521d-4526-a04e-782cf7f7816d"
      },
      "source": [
        "# Import scikit-learn metrics methods\n",
        "from sklearn.metrics import classification_report, confusion_matrix\n",
        "\n",
        "# Print confusion matrix\n",
        "print(confusion_matrix(y_test, dev_predict))\n",
        "\n",
        "# Print precision, recall and F1\n",
        "print(classification_report(y_test, dev_predict))"
      ],
      "execution_count": 49,
      "outputs": [
        {
          "output_type": "stream",
          "text": [
            "[[1910   54]\n",
            " [ 344  227]]\n",
            "              precision    recall  f1-score   support\n",
            "\n",
            "           0       0.85      0.97      0.91      1964\n",
            "           1       0.81      0.40      0.53       571\n",
            "\n",
            "    accuracy                           0.84      2535\n",
            "   macro avg       0.83      0.69      0.72      2535\n",
            "weighted avg       0.84      0.84      0.82      2535\n",
            "\n"
          ],
          "name": "stdout"
        }
      ]
    },
    {
      "cell_type": "code",
      "metadata": {
        "id": "G9gdBqMINGuS"
      },
      "source": [
        "#from sklearn.model_selection import GridSearchCV\n",
        "#parameters = {'n_neighbors': range(1, 50), 'weights':('uniform', 'distance'), 'algorithm':('ball_tree','kd_tree' , 'brute')}\n",
        "#knn2 = KNeighborsClassifier()\n",
        "#clf = GridSearchCV(knn2, parameters, cv=10, iid= True)\n",
        "#clf.fit(features, target)"
      ],
      "execution_count": 50,
      "outputs": []
    },
    {
      "cell_type": "code",
      "metadata": {
        "id": "mVmOmqWnNLNc"
      },
      "source": [
        "#print(clf.best_score_)\n",
        "#print(clf.best_params_)"
      ],
      "execution_count": 51,
      "outputs": []
    },
    {
      "cell_type": "markdown",
      "metadata": {
        "id": "Or4ge4DkTI_o"
      },
      "source": [
        "## Decision Tree"
      ]
    },
    {
      "cell_type": "code",
      "metadata": {
        "colab": {
          "base_uri": "https://localhost:8080/"
        },
        "id": "NaD3guBlTLSR",
        "outputId": "6d3d5b6c-c362-4b3e-a7cd-2fed0bfd810a"
      },
      "source": [
        "# Training a decision tree model\n",
        "\n",
        "# Import decision tree classifier\n",
        "from sklearn.tree import DecisionTreeClassifier\n",
        "\n",
        "# Import function for k-fold cross validation\n",
        "from sklearn.model_selection import cross_val_score\n",
        "\n",
        "# Create a decision tree classifier with default parameters\n",
        "dtree = DecisionTreeClassifier(criterion='entropy', splitter = 'random')\n",
        "\n",
        "# Train the model using the training set\n",
        "dtree.fit(x_train, y_train)\n",
        "\n",
        "# Use 10-fold cross validation to perform training and validation on the training set\n",
        "# Parameter scoring = 'accuracy' will compute accuracy\n",
        "scores = cross_val_score(dtree, x_train, y_train, cv = 10, scoring = 'accuracy')\n",
        "\n",
        "# Print scores\n",
        "scores"
      ],
      "execution_count": 52,
      "outputs": [
        {
          "output_type": "execute_result",
          "data": {
            "text/plain": [
              "array([0.76788732, 0.78466742, 0.7903044 , 0.79988726, 0.76719278,\n",
              "       0.79481398, 0.78635851, 0.77733935, 0.78128523, 0.79819617])"
            ]
          },
          "metadata": {
            "tags": []
          },
          "execution_count": 52
        }
      ]
    },
    {
      "cell_type": "code",
      "metadata": {
        "colab": {
          "base_uri": "https://localhost:8080/"
        },
        "id": "VnUECzD0TTQ_",
        "outputId": "71f096cb-e8f5-4f4b-8003-7b6e761f544b"
      },
      "source": [
        "# Predict the target for the development dataset\n",
        "dev_predict = dtree.predict(x_test)\n",
        "dev_predict"
      ],
      "execution_count": 53,
      "outputs": [
        {
          "output_type": "execute_result",
          "data": {
            "text/plain": [
              "array([0, 0, 0, ..., 0, 0, 0])"
            ]
          },
          "metadata": {
            "tags": []
          },
          "execution_count": 53
        }
      ]
    },
    {
      "cell_type": "code",
      "metadata": {
        "colab": {
          "base_uri": "https://localhost:8080/"
        },
        "id": "7kdSsXkxQclQ",
        "outputId": "6c0b6d73-6ad9-4657-8477-f8bc399ba220"
      },
      "source": [
        "# Import scikit-learn metrics methods\n",
        "from sklearn.metrics import classification_report, confusion_matrix\n",
        "\n",
        "# Print confusion matrix\n",
        "print(confusion_matrix(y_test, dev_predict))\n",
        "\n",
        "# Print precision, recall and F1\n",
        "print(classification_report(y_test, dev_predict))"
      ],
      "execution_count": 54,
      "outputs": [
        {
          "output_type": "stream",
          "text": [
            "[[1702  262]\n",
            " [ 279  292]]\n",
            "              precision    recall  f1-score   support\n",
            "\n",
            "           0       0.86      0.87      0.86      1964\n",
            "           1       0.53      0.51      0.52       571\n",
            "\n",
            "    accuracy                           0.79      2535\n",
            "   macro avg       0.69      0.69      0.69      2535\n",
            "weighted avg       0.78      0.79      0.79      2535\n",
            "\n"
          ],
          "name": "stdout"
        }
      ]
    },
    {
      "cell_type": "markdown",
      "metadata": {
        "id": "4tMFfSSNQu7A"
      },
      "source": [
        "Tune Parameter"
      ]
    },
    {
      "cell_type": "code",
      "metadata": {
        "colab": {
          "base_uri": "https://localhost:8080/"
        },
        "id": "IBVLDTygQwTw",
        "outputId": "0339a057-c959-4b31-89f1-e401ed8738b9"
      },
      "source": [
        "# Create a decision tree classifier with criterion = entropy and max_depth = 3\n",
        "dtree = DecisionTreeClassifier(criterion = 'entropy', max_depth = 3)\n",
        "\n",
        "# Train the model using the training set\n",
        "dtree.fit(x_train, y_train)\n",
        "\n",
        "# Predict the target for the development dataset\n",
        "dev_predict = dtree.predict(x_test)\n",
        "\n",
        "# Compute the model accuracy on the development set: How often is the classifier correct?\n",
        "print(\"Accuracy: \", metrics.accuracy_score(y_test, dev_predict))"
      ],
      "execution_count": 55,
      "outputs": [
        {
          "output_type": "stream",
          "text": [
            "Accuracy:  0.8260355029585799\n"
          ],
          "name": "stdout"
        }
      ]
    },
    {
      "cell_type": "markdown",
      "metadata": {
        "id": "YGmoCfVNQ2_Y"
      },
      "source": [
        "Visualization"
      ]
    },
    {
      "cell_type": "code",
      "metadata": {
        "colab": {
          "base_uri": "https://localhost:8080/",
          "height": 521
        },
        "id": "rgtIq27eQ2Xn",
        "outputId": "cbe054eb-88d7-4a98-f4d6-d17970f97cd9"
      },
      "source": [
        "# Load required libraries\n",
        "import sklearn.tree as tree\n",
        "import pydotplus\n",
        "from sklearn.externals.six import StringIO\n",
        "from IPython.display import Image\n",
        "\n",
        "# Visualize decision tree\n",
        "dot_data = StringIO()\n",
        "tree.export_graphviz(dtree,\n",
        "                     out_file = dot_data,\n",
        "                     class_names = ['0', '1'], # name of each of the target classes in asce\n",
        "                     feature_names = features.columns, # the feature names.\n",
        "                     filled = True, # whether to fill in the boxes with colors.\n",
        "                     rounded = True, # whether to round the corners of the boxes.\n",
        "                     special_characters = True)\n",
        "graph = pydotplus.graph_from_dot_data(dot_data.getvalue())\n",
        "Image(graph.create_png())"
      ],
      "execution_count": 56,
      "outputs": [
        {
          "output_type": "execute_result",
          "data": {
            "image/png": "[encoded data removed]",
            "text/plain": [
              "<IPython.core.display.Image object>"
            ]
          },
          "metadata": {
            "tags": []
          },
          "execution_count": 56
        }
      ]
    },
    {
      "cell_type": "code",
      "metadata": {
        "colab": {
          "base_uri": "https://localhost:8080/"
        },
        "id": "1mEFrg0QRGLo",
        "outputId": "993e9be2-2e22-422e-b200-6ba7e6ba530c"
      },
      "source": [
        "# Load export_text library\n",
        "from sklearn.tree.export import export_text\n",
        "tree_rules = export_text(dtree, feature_names=list(x_train))\n",
        "\n",
        "# Print deccision tree rules\n",
        "print(tree_rules)"
      ],
      "execution_count": 57,
      "outputs": [
        {
          "output_type": "stream",
          "text": [
            "|--- Humidity3pm <= 72.50\n",
            "|   |--- Humidity3pm <= 52.50\n",
            "|   |   |--- WindGustSpeed <= 47.00\n",
            "|   |   |   |--- class: 0\n",
            "|   |   |--- WindGustSpeed >  47.00\n",
            "|   |   |   |--- class: 0\n",
            "|   |--- Humidity3pm >  52.50\n",
            "|   |   |--- WindGustSpeed <= 42.00\n",
            "|   |   |   |--- class: 0\n",
            "|   |   |--- WindGustSpeed >  42.00\n",
            "|   |   |   |--- class: 0\n",
            "|--- Humidity3pm >  72.50\n",
            "|   |--- Humidity3pm <= 83.50\n",
            "|   |   |--- Rainfall <= 6.30\n",
            "|   |   |   |--- class: 0\n",
            "|   |   |--- Rainfall >  6.30\n",
            "|   |   |   |--- class: 1\n",
            "|   |--- Humidity3pm >  83.50\n",
            "|   |   |--- Humidity3pm <= 90.50\n",
            "|   |   |   |--- class: 1\n",
            "|   |   |--- Humidity3pm >  90.50\n",
            "|   |   |   |--- class: 1\n",
            "\n"
          ],
          "name": "stdout"
        }
      ]
    },
    {
      "cell_type": "markdown",
      "metadata": {
        "id": "4r7rdlm3RHrA"
      },
      "source": [
        "## SVM"
      ]
    },
    {
      "cell_type": "code",
      "metadata": {
        "id": "5trAd4CGRI94"
      },
      "source": [
        "# Import function for k-fold cross validation\n",
        "from sklearn.model_selection import cross_val_score\n",
        "\n",
        "# Import SVM classifier\n",
        "from sklearn.svm import SVC\n",
        "\n",
        "# Create a SVM classifier with linear kernel\n",
        "svmlinear = SVC(kernel = 'sigmoid')\n",
        "\n",
        "# Use 10-fold cross validation to perform training and validation on the training set\n",
        "# Parameter scoring = 'accuracy' will compute accuracy\n",
        "scores = cross_val_score(svmlinear, x_train, y_train, cv = 10, scoring = 'accuracy')\n",
        "\n",
        "# Display the array containing accuracy from 10 folds or iterations\n",
        "scores"
      ],
      "execution_count": null,
      "outputs": []
    },
    {
      "cell_type": "code",
      "metadata": {
        "id": "kDRniraKRxSI"
      },
      "source": [
        "# Print the mean accuracy score\n",
        "print('Accuracy (Validation) =', scores.mean())"
      ],
      "execution_count": null,
      "outputs": []
    },
    {
      "cell_type": "code",
      "metadata": {
        "id": "_1qdmTaWR3sQ"
      },
      "source": [
        "# Import scikit-learn metrics module for accuracy calculation\n",
        "from sklearn import metrics\n",
        "\n",
        "# Train model\n",
        "svmlinear.fit(x_train, y_train)\n",
        "\n",
        "# Predict the target for the test dataset\n",
        "test_predict = svmlinear.predict(x_test)\n",
        "\n",
        "# Compute the model accuracy on the development set: How often is the classifier correct?\n",
        "print(\"Accuracy (Test): \", metrics.accuracy_score(y_test, test_predict))"
      ],
      "execution_count": null,
      "outputs": []
    },
    {
      "cell_type": "code",
      "metadata": {
        "colab": {
          "background_save": true
        },
        "id": "Kgsrp96ER5og"
      },
      "source": [
        "# Import scikit-learn metrics methods\n",
        "from sklearn.metrics import classification_report, confusion_matrix\n",
        "\n",
        "# Print confusion matrix\n",
        "print(confusion_matrix(y_test, test_predict))\n",
        "\n",
        "# Print precision, recall and F1\n",
        "print(classification_report(y_test, test_predict))"
      ],
      "execution_count": null,
      "outputs": []
    },
    {
      "cell_type": "markdown",
      "metadata": {
        "id": "0GiPdbieSAwo"
      },
      "source": [
        "[link text](https://)Tuning parameter"
      ]
    },
    {
      "cell_type": "code",
      "metadata": {
        "id": "TgLT7iVqSCeQ"
      },
      "source": [
        "from sklearn.svm import SVC\n",
        "\n",
        "# Create a SVM classifier with linear kernel\n",
        "svmlinear = SVC(kernel = 'linear', C = 10)\n",
        "\n",
        "# Use 10-fold cross validation to perform training and validation on the training set\n",
        "# Parameter scoring = 'accuracy' will compute accuracy\n",
        "scores = cross_val_score(svmlinear, x_train, y_train, cv = 10, scoring = 'accuracy')\n",
        "\n",
        "# Display the array containing accuracy from 10 folds or iterations\n",
        "scores"
      ],
      "execution_count": null,
      "outputs": []
    },
    {
      "cell_type": "code",
      "metadata": {
        "id": "7q8K60sISHEr"
      },
      "source": [
        "# Print the mean accuracy score\n",
        "print('Accuracy (Validation) =', scores.mean())"
      ],
      "execution_count": null,
      "outputs": []
    },
    {
      "cell_type": "code",
      "metadata": {
        "id": "1h3QsvCTSINt"
      },
      "source": [
        "# Import GridSearch from the sklearn library\n",
        "from sklearn.model_selection import GridSearchCV\n",
        "\n",
        "# The param_grid specifies one grid should be explored\n",
        "param_grid = {'C': [1, 10, 100, 1000]}\n",
        "\n",
        "# Fit on the dataset on all parameter combinations in param_grid\n",
        "# Retain the best combination\n",
        "grid_search = GridSearchCV(SVC(kernel = 'linear'), param_grid, cv = 5, iid = True)"
      ],
      "execution_count": null,
      "outputs": []
    },
    {
      "cell_type": "code",
      "metadata": {
        "id": "ki5o8pcqSOo8"
      },
      "source": [
        "# Import GridSearch from the sklearn library\n",
        "from sklearn.model_selection import GridSearchCV\n",
        "\n",
        "# The param_grid specifies one grid should be explored\n",
        "param_grid = {'C': [1, 10, 100, 1000]}\n",
        "\n",
        "# Fit on the dataset on all parameter combinations in param_grid\n",
        "# Retain the best combination\n",
        "grid_search = GridSearchCV(SVC(kernel = 'linear'), param_grid, cv = 5, iid = True)\n",
        "\n",
        "# Show the parameters yielding the best model\n",
        "grid_search"
      ],
      "execution_count": null,
      "outputs": []
    },
    {
      "cell_type": "code",
      "metadata": {
        "id": "AJeZ115nSVrN"
      },
      "source": [
        "# Display the best parameter C value\n",
        "#grid_search.best_params_"
      ],
      "execution_count": null,
      "outputs": []
    },
    {
      "cell_type": "code",
      "metadata": {
        "id": "_eeNo7DVxCM8"
      },
      "source": [
        "# Random Forest"
      ],
      "execution_count": null,
      "outputs": []
    },
    {
      "cell_type": "code",
      "metadata": {
        "id": "nCAG1s40xbx9"
      },
      "source": [
        "from sklearn.ensemble import RandomForestClassifier\n",
        "rfc = RandomForestClassifier(n_estimators=10)\n",
        "scores = cross_val_score(rfc, x_train, y_train, cv = 10, scoring = 'accuracy')\n",
        "print(scores)\n",
        "# Print the mean accuracy score\n",
        "print('Accuracy (Validation) =', scores.mean())"
      ],
      "execution_count": null,
      "outputs": []
    },
    {
      "cell_type": "code",
      "metadata": {
        "id": "83I9VHsTGLTF"
      },
      "source": [
        "# Bagging"
      ],
      "execution_count": null,
      "outputs": []
    },
    {
      "cell_type": "code",
      "metadata": {
        "id": "BG2E1nEC_YPp"
      },
      "source": [
        "# Import the bagging classifier\n",
        "from sklearn.ensemble import BaggingClassifier\n",
        "# Import the base classifier\n",
        "from sklearn.tree import DecisionTreeClassifier\n",
        "# Import function for k-fold cross validation\n",
        "from sklearn.model_selection import cross_val_score\n",
        "# Create the base classifier\n",
        "base = DecisionTreeClassifier()\n",
        "# Create the bagging classifier\n",
        "model_bagging = BaggingClassifier(base_estimator = base, n_estimators = 10, random_state = 7)\n",
        "# Use 10-fold cross validation to perform training and validation on the training set\n",
        "# Parameter scoring = 'accuracy' will compute accuracy\n",
        "scores = cross_val_score(model_bagging, x_train, y_train, cv = 10, scoring = 'accuracy')\n",
        "# Display the array containing accuracy from 10 folds or iterations\n",
        "print(scores)\n",
        "# Print the mean accuracy score\n",
        "print('Accuracy (Validation) =', scores.mean())"
      ],
      "execution_count": null,
      "outputs": []
    },
    {
      "cell_type": "code",
      "metadata": {
        "id": "I-WLld8O_iPZ"
      },
      "source": [
        "# Import scikit-learn metrics module for accuracy calculation\n",
        "from sklearn import metrics\n",
        "# Running prediction\n",
        "model_bagging.fit(x_train, y_train)\n",
        "# Predict the target for the test dataset\n",
        "test_predict = model_bagging.predict(x_test)\n",
        "# Compute the model accuracy on the test set\n",
        "print(\"Accuracy (Test): \", metrics.accuracy_score(y_test, test_predict))"
      ],
      "execution_count": null,
      "outputs": []
    },
    {
      "cell_type": "code",
      "metadata": {
        "id": "J-SAxnLmGWTn"
      },
      "source": [
        "# Boosting"
      ],
      "execution_count": null,
      "outputs": []
    },
    {
      "cell_type": "code",
      "metadata": {
        "id": "FYViq7fLGYG_"
      },
      "source": [
        "# Import the AdaBoost classifier\n",
        "from sklearn.ensemble import AdaBoostClassifier\n",
        "# Create the base classifier\n",
        "base = DecisionTreeClassifier()\n",
        "# Create the AdaBoost classifier\n",
        "model_boosting = AdaBoostClassifier(base_estimator = base, n_estimators = 10, random_state = 7)\n",
        "# Use 10-fold cross validation to perform training and validation on the training set\n",
        "# Parameter scoring = 'accuracy' will compute accuracy\n",
        "scores = cross_val_score(model_boosting, x_train, y_train, cv = 10, scoring = 'accuracy')\n",
        "# Display the array containing accuracy from 10 folds or iterations\n",
        "print(scores)\n",
        "# Print the mean accuracy score\n",
        "print('Accuracy (Validation) =', scores.mean())"
      ],
      "execution_count": null,
      "outputs": []
    },
    {
      "cell_type": "code",
      "metadata": {
        "id": "nQuvyiIWGbwo"
      },
      "source": [
        "# Import scikit-learn metrics module for accuracy calculation\n",
        "from sklearn import metrics\n",
        "# Running prediction\n",
        "model_boosting.fit(x_train, y_train)\n",
        "# Predict the target for the test dataset\n",
        "test_predict = model_boosting.predict(x_test)\n",
        "# Compute the model accuracy on the test set\n",
        "print(\"Accuracy (Test): \", metrics.accuracy_score(y_test, test_predict))"
      ],
      "execution_count": null,
      "outputs": []
    },
    {
      "cell_type": "code",
      "metadata": {
        "id": "1oB990y6G1fk"
      },
      "source": [
        "# Voting"
      ],
      "execution_count": null,
      "outputs": []
    },
    {
      "cell_type": "code",
      "metadata": {
        "id": "_ehp8qbwGhCI"
      },
      "source": [
        "# Import the base classifiers: Gaussian Naive Bayes, Decision Tree and SVM\n",
        "from sklearn.naive_bayes import GaussianNB\n",
        "from sklearn.tree import DecisionTreeClassifier\n",
        "from sklearn.svm import SVC\n",
        "# Import VotingClassifier\n",
        "from sklearn.ensemble import VotingClassifier\n",
        "# Create the base classifiers\n",
        "clf1 = GaussianNB()\n",
        "clf2 = DecisionTreeClassifier(random_state = 12)\n",
        "clf3 = SVC(kernel = 'linear')\n",
        "# Create VotingClassifier\n",
        "model_voting = VotingClassifier(estimators = [('gnb', clf1), ('dt', clf2), ('svm', clf3)], \\\n",
        " voting = 'hard')\n",
        "# Use 10-fold cross validation to perform training and validation on the training set\n",
        "# Parameter scoring = 'accuracy' will compute accuracy\n",
        "scores = cross_val_score(model_voting, x_train, y_train, cv = 10, scoring = 'accuracy')\n",
        "# Display the array containing accuracy from 10 folds or iterations\n",
        "print(scores)\n",
        "# Print the mean accuracy score\n",
        "print('Accuracy (Validation) =', scores.mean())"
      ],
      "execution_count": null,
      "outputs": []
    },
    {
      "cell_type": "code",
      "metadata": {
        "id": "IoRSnWjVGypt"
      },
      "source": [
        "# Running prediction\n",
        "model_voting.fit(x_train, y_train)\n",
        "# Predict the target for the test dataset\n",
        "test_predict = model_voting.predict(x_test)\n",
        "# Compute the model accuracy on the test set\n",
        "print(\"Accuracy (Test): \", metrics.accuracy_score(y_test, test_predict))"
      ],
      "execution_count": null,
      "outputs": []
    },
    {
      "cell_type": "code",
      "metadata": {
        "id": "fd2WhcGVAh67"
      },
      "source": [
        "# Stacking"
      ],
      "execution_count": null,
      "outputs": []
    },
    {
      "cell_type": "code",
      "metadata": {
        "id": "E46FLpvzHBM0"
      },
      "source": [
        "# Import the base classifiers: Gaussian Naive Bayes, Decision Tree, SVM and KNN\n",
        "from sklearn.naive_bayes import GaussianNB\n",
        "from sklearn.tree import DecisionTreeClassifier\n",
        "from sklearn.svm import SVC\n",
        "from sklearn.neighbors import KNeighborsClassifier\n",
        "# Import StackingClassifier\n",
        "from sklearn.ensemble import StackingClassifier\n",
        "# Create the base classifiers\n",
        "clf1 = GaussianNB()\n",
        "clf2 = DecisionTreeClassifier(random_state = 12)\n",
        "clf3 = SVC(kernel = 'linear')\n",
        "# Create StackingClassifier\n",
        "model_stacking = StackingClassifier(estimators = [('gnb', clf1), ('dt', clf2), ('svm', clf3)], \\\n",
        " final_estimator = KNeighborsClassifier(n_neighbors = 5))\n",
        "# Use 10-fold cross validation to perform training and validation on the training set\n",
        "# Parameter scoring = 'accuracy' will compute accuracy\n",
        "scores = cross_val_score(model_stacking, x_train, y_train, cv = 10, scoring = 'accuracy')\n",
        "# Display the array containing accuracy from 10 folds or iterations\n",
        "print(scores)\n",
        "# Print the mean accuracy score\n",
        "print('Accuracy (Validation) =', scores.mean())"
      ],
      "execution_count": null,
      "outputs": []
    },
    {
      "cell_type": "code",
      "metadata": {
        "id": "RZyEdzpaHBC3"
      },
      "source": [
        "# Running prediction\n",
        "model_stacking.fit(x_train, y_train)\n",
        "# Predict the target for the test dataset\n",
        "test_predict = model_stacking.predict(x_test)\n",
        "# Compute the model accuracy on the test set\n",
        "print(\"Accuracy (Test): \", metrics.accuracy_score(y_test, test_predict))"
      ],
      "execution_count": null,
      "outputs": []
    }
  ]
}